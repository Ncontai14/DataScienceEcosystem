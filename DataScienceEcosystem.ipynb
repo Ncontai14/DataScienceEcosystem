{
 "cells": [
  {
   "cell_type": "markdown",
   "id": "a327bc33-190a-4c21-a15c-ad5161d0e4ac",
   "metadata": {},
   "source": [
    "# Data Science Tools and Ecosystem"
   ]
  },
  {
   "cell_type": "markdown",
   "id": "b79a8d81-dc96-4e74-86ae-597a29c60e2b",
   "metadata": {},
   "source": [
    "In this notebook, Data Science Tools and Ecosystem are summarized."
   ]
  },
  {
   "cell_type": "markdown",
   "id": "43b5342d-e361-4671-9d59-5dad66d9a89d",
   "metadata": {},
   "source": [
    "Some of the popular languages that Data Scientists use are:\n",
    "> 1. Python\n",
    "> 2. R\n",
    "> 3. SQL"
   ]
  },
  {
   "cell_type": "markdown",
   "id": "ed88050a-d657-4935-b363-19563d3d541c",
   "metadata": {},
   "source": [
    "Some of the commonly used libraries used by Data Scientists include:\n",
    "> 1. NumPy\n",
    "> 2. Matplotlib\n",
    "> 3. Pandas"
   ]
  },
  {
   "cell_type": "markdown",
   "id": "f7458772-b049-4ae3-a949-4ea913b4aece",
   "metadata": {},
   "source": [
    "Data Science Tools\n",
    "| Open source tools |\r\n",
    "| --- |\r\n",
    "RStudio |\n",
    "| Apache Spark |\n",
    "| Jupyter Notebooks | |"
   ]
  },
  {
   "cell_type": "markdown",
   "id": "62328a7c-5f4c-4826-9e00-13abd371e6a2",
   "metadata": {},
   "source": [
    "### Below are a few examples of evaluating arithmetic expressions in Python"
   ]
  },
  {
   "cell_type": "code",
   "execution_count": 11,
   "id": "bc38dd6e-e521-40c6-9158-de663089e5df",
   "metadata": {},
   "outputs": [
    {
     "data": {
      "text/plain": [
       "17"
      ]
     },
     "execution_count": 11,
     "metadata": {},
     "output_type": "execute_result"
    }
   ],
   "source": [
    "# This a simple arithmetic expression to mutiply then add integers\n",
    "(3*4)+5"
   ]
  },
  {
   "cell_type": "code",
   "execution_count": 43,
   "id": "41d3e0b5-5808-41cf-b045-197638790015",
   "metadata": {},
   "outputs": [
    {
     "name": "stdin",
     "output_type": "stream",
     "text": [
      "Number of minutes to be converted:  200\n"
     ]
    },
    {
     "name": "stdout",
     "output_type": "stream",
     "text": [
      "Number of hours: 3\n"
     ]
    }
   ],
   "source": [
    "# This will convert 200 minutes to hours by diving by 60:\n",
    "x=input('Number of minutes to be converted: ')\n",
    "Number_of_minutes = int(x)\n",
    "Number_of_hours = int(x) // 60\n",
    "print(\"Number of hours: \"+ str( Number_of_hours))"
   ]
  },
  {
   "cell_type": "markdown",
   "id": "018ab60c-014a-4190-8f94-9162334cd4a9",
   "metadata": {},
   "source": [
    "**Objectives:**\n",
    "- List popular languages for Data Science\n",
    "- List popular libraries for Data Science\n",
    "- List popular open source tools for Data Science\n",
    "- Create ordered and unordered lists, bold font etc. in markdown cells\n",
    "- Evaluating arithmatic experssions in python"
   ]
  },
  {
   "cell_type": "markdown",
   "id": "9e12ec9e-fcd8-4b94-8c60-e39d26ca8aa6",
   "metadata": {},
   "source": [
    "## Author\n",
    "Nishith Maity"
   ]
  },
  {
   "cell_type": "code",
   "execution_count": null,
   "id": "0cb4e8b8-b3f6-443e-b840-616b6322ab16",
   "metadata": {},
   "outputs": [],
   "source": []
  }
 ],
 "metadata": {
  "kernelspec": {
   "display_name": "Python 3 (ipykernel)",
   "language": "python",
   "name": "python3"
  },
  "language_info": {
   "codemirror_mode": {
    "name": "ipython",
    "version": 3
   },
   "file_extension": ".py",
   "mimetype": "text/x-python",
   "name": "python",
   "nbconvert_exporter": "python",
   "pygments_lexer": "ipython3",
   "version": "3.12.4"
  }
 },
 "nbformat": 4,
 "nbformat_minor": 5
}
